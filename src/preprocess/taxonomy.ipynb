{
 "cells": [
  {
   "cell_type": "code",
   "execution_count": null,
   "metadata": {},
   "outputs": [],
   "source": [
    "from pathlib import Path\n",
    "from collections import defaultdict\n",
    "import torch\n"
   ]
  },
  {
   "cell_type": "code",
   "execution_count": null,
   "metadata": {},
   "outputs": [],
   "source": [
    "pcmap = Path('../../data/rcv1v2/pregenerated/parent_child_map.txt').open().readlines()\n",
    "# pcmap = Path('../../data/nyt/pregenerated/parent_child_map.txt').open().readlines()\n",
    "# pcmap = Path('../../data/EURLEX57K/pregenerated/parent_child_map_treecode.txt').open().readlines()\n",
    "pcmap = [line.strip().split('\\t') for line in pcmap]\n",
    "\n",
    "taxonomy = defaultdict(list)\n",
    "for parent, child in pcmap:\n",
    "    if parent == 'root':\n",
    "        parent = 'Root'\n",
    "    taxonomy[parent].append(child)\n",
    "    \n",
    "taxonomy = dict(taxonomy)"
   ]
  },
  {
   "cell_type": "code",
   "execution_count": null,
   "metadata": {},
   "outputs": [],
   "source": [
    "tx = Path('rcv1.taxonomy').open('w')\n",
    "# tx = Path('nyt.taxonomy').open('w')\n",
    "# tx = Path('EURLEX57K.taxonomy').open('w')\n",
    "start = 'Root'\n",
    "def add_taxonomy(parent):\n",
    "    if parent in taxonomy:\n",
    "        tx.write(f'{parent}\\t')\n",
    "        tx.write('\\t'.join(taxonomy[parent])+'\\n')\n",
    "        return [add_taxonomy(child) for child in taxonomy[parent]]\n",
    "add_taxonomy(start)\n",
    "tx.close()"
   ]
  },
  {
   "cell_type": "code",
   "execution_count": null,
   "metadata": {},
   "outputs": [],
   "source": [
    "label_dict = {}\n",
    "hiera = defaultdict(set)\n",
    "with open('rcv1.taxonomy', 'r') as f:\n",
    "    label_dict['Root'] = -1\n",
    "    for line in f.readlines():\n",
    "        line = line.strip().split('\\t')\n",
    "        for i in line[1:]:\n",
    "            if i not in label_dict:\n",
    "                label_dict[i] = len(label_dict) - 1\n",
    "            hiera[label_dict[line[0]]].add(label_dict[i])\n",
    "    label_dict.pop('Root')\n",
    "    hiera.pop(-1)\n",
    "value_dict = {i: v for v, i in label_dict.items()}\n",
    "torch.save(value_dict, '../../data/rcv1v2/pregenerated/value_dict.pt')\n",
    "torch.save(hiera, '../../data/rcv1v2/pregenerated/slot.pt')"
   ]
  },
  {
   "cell_type": "code",
   "execution_count": null,
   "metadata": {},
   "outputs": [],
   "source": [
    "label_dict = {}\n",
    "hiera = defaultdict(set)\n",
    "with open('nyt.taxonomy', 'r') as f:\n",
    "    label_dict['Root'] = -1\n",
    "    for line in f.readlines():\n",
    "        line = line.strip().split('\\t')\n",
    "        for i in line[1:]:\n",
    "            if i not in label_dict:\n",
    "                label_dict[i] = len(label_dict) - 1\n",
    "            hiera[label_dict[line[0]]].add(label_dict[i])\n",
    "    label_dict.pop('Root')\n",
    "    hiera.pop(-1)\n",
    "value_dict = {i: v for v, i in label_dict.items()}\n",
    "torch.save(value_dict, '../../data/nyt/pregenerated/value_dict.pt')\n",
    "torch.save(hiera, '../../data/nyt/pregenerated/slot.pt')"
   ]
  },
  {
   "cell_type": "code",
   "execution_count": null,
   "metadata": {},
   "outputs": [],
   "source": [
    "label_set = set()\n",
    "hiera = defaultdict(set)\n",
    "with open('EURLEX57K.taxonomy', 'r') as f:\n",
    "    label_set.add('Root')\n",
    "    for line in f.readlines():\n",
    "        line = line.strip().split('\\t')\n",
    "        parent, children = line[0], line[1:]\n",
    "        for child in children:\n",
    "            if child not in label_set:\n",
    "                label_set.add(child)\n",
    "            hiera[parent].add(child)\n",
    "    label_set.remove('Root')\n",
    "    hiera.pop('Root')\n",
    "print(label_set)\n",
    "print(hiera)\n",
    "\n",
    "value_dict = {i:v for i,v in enumerate(label_set)}\n",
    "label2idx = {v:i for i,v in value_dict.items()}\n",
    "hiera = {label2idx[k]:[label2idx[label] for label in v] for k,v in hiera.items()}\n",
    "# print(len(value_dict))\n",
    "torch.save(value_dict, '../../data/EURLEX57K/pregenerated/value_dict.pt')\n",
    "torch.save(hiera, '../../data/EURLEX57K/pregenerated/slot.pt')"
   ]
  }
 ],
 "metadata": {
  "kernelspec": {
   "display_name": "htc02",
   "language": "python",
   "name": "python3"
  },
  "language_info": {
   "codemirror_mode": {
    "name": "ipython",
    "version": 3
   },
   "file_extension": ".py",
   "mimetype": "text/x-python",
   "name": "python",
   "nbconvert_exporter": "python",
   "pygments_lexer": "ipython3",
   "version": "3.11.7"
  }
 },
 "nbformat": 4,
 "nbformat_minor": 2
}
