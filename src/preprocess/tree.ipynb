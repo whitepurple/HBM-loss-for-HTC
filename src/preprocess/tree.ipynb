{
 "cells": [
  {
   "cell_type": "code",
   "execution_count": 1,
   "metadata": {},
   "outputs": [
    {
     "data": {
      "text/plain": [
       "7201"
      ]
     },
     "execution_count": 1,
     "metadata": {},
     "output_type": "execute_result"
    }
   ],
   "source": [
    "import json\n",
    "from pathlib import Path\n",
    "\n",
    "data = json.load(Path('../../data/EURLEX57K/raw/EURLEX57K.json').open())\n",
    "len(data.keys())"
   ]
  },
  {
   "cell_type": "code",
   "execution_count": 2,
   "metadata": {},
   "outputs": [
    {
     "data": {
      "text/plain": [
       "4271"
      ]
     },
     "execution_count": 2,
     "metadata": {},
     "output_type": "execute_result"
    }
   ],
   "source": [
    "target_labels = Path('../../data/EURLEX57K/pregenerated/target_labels.txt').open().readlines()\n",
    "target_labels = [t.strip() for t in target_labels]\n",
    "len(target_labels)"
   ]
  },
  {
   "cell_type": "code",
   "execution_count": 3,
   "metadata": {},
   "outputs": [],
   "source": [
    "labels = set()\n",
    "pcm = Path('../../data/EURLEX57K/pregenerated/parent_child_map_tree.txt').open('w')\n",
    "labels = Path('../../data/EURLEX57K/pregenerated/labels_tree.txt').open('w')\n",
    "labels.write('root\\troot\\n')\n",
    "parent_child_map_tree = set()\n",
    "labels_tree = set()\n",
    "remain_labels = set(target_labels.copy())\n",
    "while len(remain_labels):\n",
    "    child = remain_labels.pop()\n",
    "    labels_tree.add(child)\n",
    "    parents = data[child]['parents']\n",
    "    if parents:\n",
    "        for parent in parents:\n",
    "            remain_labels.add(parent)\n",
    "            parent_child_map_tree.add((parent, child))\n",
    "    else:\n",
    "        parent_child_map_tree.add(('root', child))\n",
    "\n",
    "for parent, child in parent_child_map_tree:\n",
    "    pcm.write(f'{parent}\\t{child}\\n')\n",
    "    \n",
    "for label in labels_tree:\n",
    "    labels.write(f'{label}\\t{data[label][\"label\"]}\\n')\n",
    "    \n",
    "pcm.close()\n",
    "labels.close()\n",
    "    "
   ]
  },
  {
   "cell_type": "code",
   "execution_count": null,
   "metadata": {},
   "outputs": [],
   "source": []
  }
 ],
 "metadata": {
  "kernelspec": {
   "display_name": "htc02",
   "language": "python",
   "name": "python3"
  },
  "language_info": {
   "codemirror_mode": {
    "name": "ipython",
    "version": 3
   },
   "file_extension": ".py",
   "mimetype": "text/x-python",
   "name": "python",
   "nbconvert_exporter": "python",
   "pygments_lexer": "ipython3",
   "version": "3.11.7"
  }
 },
 "nbformat": 4,
 "nbformat_minor": 2
}
